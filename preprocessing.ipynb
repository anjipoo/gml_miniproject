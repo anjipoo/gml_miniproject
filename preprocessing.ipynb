{
 "cells": [
  {
   "cell_type": "code",
   "execution_count": 30,
   "id": "e54a9b16",
   "metadata": {},
   "outputs": [],
   "source": [
    "import pandas as pd\n",
    "import numpy as np\n",
    "import matplotlib.pyplot as plt\n",
    "import seaborn as sns\n",
    "import networkx as nx"
   ]
  },
  {
   "cell_type": "code",
   "execution_count": 3,
   "id": "c3312dab",
   "metadata": {},
   "outputs": [],
   "source": [
    "nodes=pd.read_csv(\"data/hetionet-v1.0-nodes.tsv\",sep=\"\\t\")"
   ]
  },
  {
   "cell_type": "code",
   "execution_count": 4,
   "id": "a8daed96",
   "metadata": {},
   "outputs": [
    {
     "data": {
      "text/html": [
       "<div>\n",
       "<style scoped>\n",
       "    .dataframe tbody tr th:only-of-type {\n",
       "        vertical-align: middle;\n",
       "    }\n",
       "\n",
       "    .dataframe tbody tr th {\n",
       "        vertical-align: top;\n",
       "    }\n",
       "\n",
       "    .dataframe thead th {\n",
       "        text-align: right;\n",
       "    }\n",
       "</style>\n",
       "<table border=\"1\" class=\"dataframe\">\n",
       "  <thead>\n",
       "    <tr style=\"text-align: right;\">\n",
       "      <th></th>\n",
       "      <th>id</th>\n",
       "      <th>name</th>\n",
       "      <th>kind</th>\n",
       "    </tr>\n",
       "  </thead>\n",
       "  <tbody>\n",
       "    <tr>\n",
       "      <th>0</th>\n",
       "      <td>Anatomy::UBERON:0000002</td>\n",
       "      <td>uterine cervix</td>\n",
       "      <td>Anatomy</td>\n",
       "    </tr>\n",
       "    <tr>\n",
       "      <th>1</th>\n",
       "      <td>Anatomy::UBERON:0000004</td>\n",
       "      <td>nose</td>\n",
       "      <td>Anatomy</td>\n",
       "    </tr>\n",
       "    <tr>\n",
       "      <th>2</th>\n",
       "      <td>Anatomy::UBERON:0000006</td>\n",
       "      <td>islet of Langerhans</td>\n",
       "      <td>Anatomy</td>\n",
       "    </tr>\n",
       "    <tr>\n",
       "      <th>3</th>\n",
       "      <td>Anatomy::UBERON:0000007</td>\n",
       "      <td>pituitary gland</td>\n",
       "      <td>Anatomy</td>\n",
       "    </tr>\n",
       "    <tr>\n",
       "      <th>4</th>\n",
       "      <td>Anatomy::UBERON:0000010</td>\n",
       "      <td>peripheral nervous system</td>\n",
       "      <td>Anatomy</td>\n",
       "    </tr>\n",
       "    <tr>\n",
       "      <th>5</th>\n",
       "      <td>Anatomy::UBERON:0000011</td>\n",
       "      <td>parasympathetic nervous system</td>\n",
       "      <td>Anatomy</td>\n",
       "    </tr>\n",
       "    <tr>\n",
       "      <th>6</th>\n",
       "      <td>Anatomy::UBERON:0000013</td>\n",
       "      <td>sympathetic nervous system</td>\n",
       "      <td>Anatomy</td>\n",
       "    </tr>\n",
       "    <tr>\n",
       "      <th>7</th>\n",
       "      <td>Anatomy::UBERON:0000020</td>\n",
       "      <td>sense organ</td>\n",
       "      <td>Anatomy</td>\n",
       "    </tr>\n",
       "    <tr>\n",
       "      <th>8</th>\n",
       "      <td>Anatomy::UBERON:0000026</td>\n",
       "      <td>appendage</td>\n",
       "      <td>Anatomy</td>\n",
       "    </tr>\n",
       "    <tr>\n",
       "      <th>9</th>\n",
       "      <td>Anatomy::UBERON:0000029</td>\n",
       "      <td>lymph node</td>\n",
       "      <td>Anatomy</td>\n",
       "    </tr>\n",
       "  </tbody>\n",
       "</table>\n",
       "</div>"
      ],
      "text/plain": [
       "                        id                            name     kind\n",
       "0  Anatomy::UBERON:0000002                  uterine cervix  Anatomy\n",
       "1  Anatomy::UBERON:0000004                            nose  Anatomy\n",
       "2  Anatomy::UBERON:0000006             islet of Langerhans  Anatomy\n",
       "3  Anatomy::UBERON:0000007                 pituitary gland  Anatomy\n",
       "4  Anatomy::UBERON:0000010       peripheral nervous system  Anatomy\n",
       "5  Anatomy::UBERON:0000011  parasympathetic nervous system  Anatomy\n",
       "6  Anatomy::UBERON:0000013      sympathetic nervous system  Anatomy\n",
       "7  Anatomy::UBERON:0000020                     sense organ  Anatomy\n",
       "8  Anatomy::UBERON:0000026                       appendage  Anatomy\n",
       "9  Anatomy::UBERON:0000029                      lymph node  Anatomy"
      ]
     },
     "execution_count": 4,
     "metadata": {},
     "output_type": "execute_result"
    }
   ],
   "source": [
    "nodes.head(10)"
   ]
  },
  {
   "cell_type": "code",
   "execution_count": 5,
   "id": "31f36b6d",
   "metadata": {},
   "outputs": [],
   "source": [
    "edges=pd.read_csv(\"data/hetionet-v1.0-edges.sif/edges.sif\",sep=\"\\t\",names=[\"source\",\"relation\",\"target\"])"
   ]
  },
  {
   "cell_type": "code",
   "execution_count": 6,
   "id": "a5a86c81",
   "metadata": {},
   "outputs": [
    {
     "data": {
      "text/html": [
       "<div>\n",
       "<style scoped>\n",
       "    .dataframe tbody tr th:only-of-type {\n",
       "        vertical-align: middle;\n",
       "    }\n",
       "\n",
       "    .dataframe tbody tr th {\n",
       "        vertical-align: top;\n",
       "    }\n",
       "\n",
       "    .dataframe thead th {\n",
       "        text-align: right;\n",
       "    }\n",
       "</style>\n",
       "<table border=\"1\" class=\"dataframe\">\n",
       "  <thead>\n",
       "    <tr style=\"text-align: right;\">\n",
       "      <th></th>\n",
       "      <th>source</th>\n",
       "      <th>relation</th>\n",
       "      <th>target</th>\n",
       "    </tr>\n",
       "  </thead>\n",
       "  <tbody>\n",
       "    <tr>\n",
       "      <th>0</th>\n",
       "      <td>source</td>\n",
       "      <td>metaedge</td>\n",
       "      <td>target</td>\n",
       "    </tr>\n",
       "    <tr>\n",
       "      <th>1</th>\n",
       "      <td>Gene::9021</td>\n",
       "      <td>GpBP</td>\n",
       "      <td>Biological Process::GO:0071357</td>\n",
       "    </tr>\n",
       "    <tr>\n",
       "      <th>2</th>\n",
       "      <td>Gene::51676</td>\n",
       "      <td>GpBP</td>\n",
       "      <td>Biological Process::GO:0098780</td>\n",
       "    </tr>\n",
       "    <tr>\n",
       "      <th>3</th>\n",
       "      <td>Gene::19</td>\n",
       "      <td>GpBP</td>\n",
       "      <td>Biological Process::GO:0055088</td>\n",
       "    </tr>\n",
       "    <tr>\n",
       "      <th>4</th>\n",
       "      <td>Gene::3176</td>\n",
       "      <td>GpBP</td>\n",
       "      <td>Biological Process::GO:0010243</td>\n",
       "    </tr>\n",
       "    <tr>\n",
       "      <th>5</th>\n",
       "      <td>Gene::3039</td>\n",
       "      <td>GpBP</td>\n",
       "      <td>Biological Process::GO:0006898</td>\n",
       "    </tr>\n",
       "    <tr>\n",
       "      <th>6</th>\n",
       "      <td>Gene::5962</td>\n",
       "      <td>GpBP</td>\n",
       "      <td>Biological Process::GO:0051346</td>\n",
       "    </tr>\n",
       "    <tr>\n",
       "      <th>7</th>\n",
       "      <td>Gene::841</td>\n",
       "      <td>GpBP</td>\n",
       "      <td>Biological Process::GO:0043207</td>\n",
       "    </tr>\n",
       "    <tr>\n",
       "      <th>8</th>\n",
       "      <td>Gene::6924</td>\n",
       "      <td>GpBP</td>\n",
       "      <td>Biological Process::GO:0006354</td>\n",
       "    </tr>\n",
       "    <tr>\n",
       "      <th>9</th>\n",
       "      <td>Gene::7407</td>\n",
       "      <td>GpBP</td>\n",
       "      <td>Biological Process::GO:0006417</td>\n",
       "    </tr>\n",
       "  </tbody>\n",
       "</table>\n",
       "</div>"
      ],
      "text/plain": [
       "        source  relation                          target\n",
       "0       source  metaedge                          target\n",
       "1   Gene::9021      GpBP  Biological Process::GO:0071357\n",
       "2  Gene::51676      GpBP  Biological Process::GO:0098780\n",
       "3     Gene::19      GpBP  Biological Process::GO:0055088\n",
       "4   Gene::3176      GpBP  Biological Process::GO:0010243\n",
       "5   Gene::3039      GpBP  Biological Process::GO:0006898\n",
       "6   Gene::5962      GpBP  Biological Process::GO:0051346\n",
       "7    Gene::841      GpBP  Biological Process::GO:0043207\n",
       "8   Gene::6924      GpBP  Biological Process::GO:0006354\n",
       "9   Gene::7407      GpBP  Biological Process::GO:0006417"
      ]
     },
     "execution_count": 6,
     "metadata": {},
     "output_type": "execute_result"
    }
   ],
   "source": [
    "edges.head(10)"
   ]
  },
  {
   "cell_type": "code",
   "execution_count": 7,
   "id": "7fd192a1",
   "metadata": {},
   "outputs": [
    {
     "name": "stdout",
     "output_type": "stream",
     "text": [
      "<class 'pandas.core.frame.DataFrame'>\n",
      "RangeIndex: 47031 entries, 0 to 47030\n",
      "Data columns (total 3 columns):\n",
      " #   Column  Non-Null Count  Dtype \n",
      "---  ------  --------------  ----- \n",
      " 0   id      47031 non-null  object\n",
      " 1   name    47031 non-null  object\n",
      " 2   kind    47031 non-null  object\n",
      "dtypes: object(3)\n",
      "memory usage: 1.1+ MB\n"
     ]
    }
   ],
   "source": [
    "nodes.info()"
   ]
  },
  {
   "cell_type": "code",
   "execution_count": 8,
   "id": "01945d49",
   "metadata": {},
   "outputs": [
    {
     "name": "stdout",
     "output_type": "stream",
     "text": [
      "<class 'pandas.core.frame.DataFrame'>\n",
      "RangeIndex: 2250198 entries, 0 to 2250197\n",
      "Data columns (total 3 columns):\n",
      " #   Column    Dtype \n",
      "---  ------    ----- \n",
      " 0   source    object\n",
      " 1   relation  object\n",
      " 2   target    object\n",
      "dtypes: object(3)\n",
      "memory usage: 51.5+ MB\n"
     ]
    }
   ],
   "source": [
    "edges.info()"
   ]
  },
  {
   "cell_type": "code",
   "execution_count": 9,
   "id": "0ce55164",
   "metadata": {},
   "outputs": [],
   "source": [
    "edges=edges[edges[\"source\"]!=\"source\"]\n",
    "edges.reset_index(drop=True,inplace=True)"
   ]
  },
  {
   "cell_type": "code",
   "execution_count": 10,
   "id": "d8eeb858",
   "metadata": {},
   "outputs": [
    {
     "data": {
      "text/html": [
       "<div>\n",
       "<style scoped>\n",
       "    .dataframe tbody tr th:only-of-type {\n",
       "        vertical-align: middle;\n",
       "    }\n",
       "\n",
       "    .dataframe tbody tr th {\n",
       "        vertical-align: top;\n",
       "    }\n",
       "\n",
       "    .dataframe thead th {\n",
       "        text-align: right;\n",
       "    }\n",
       "</style>\n",
       "<table border=\"1\" class=\"dataframe\">\n",
       "  <thead>\n",
       "    <tr style=\"text-align: right;\">\n",
       "      <th></th>\n",
       "      <th>source</th>\n",
       "      <th>relation</th>\n",
       "      <th>target</th>\n",
       "    </tr>\n",
       "  </thead>\n",
       "  <tbody>\n",
       "    <tr>\n",
       "      <th>0</th>\n",
       "      <td>Gene::9021</td>\n",
       "      <td>GpBP</td>\n",
       "      <td>Biological Process::GO:0071357</td>\n",
       "    </tr>\n",
       "    <tr>\n",
       "      <th>1</th>\n",
       "      <td>Gene::51676</td>\n",
       "      <td>GpBP</td>\n",
       "      <td>Biological Process::GO:0098780</td>\n",
       "    </tr>\n",
       "    <tr>\n",
       "      <th>2</th>\n",
       "      <td>Gene::19</td>\n",
       "      <td>GpBP</td>\n",
       "      <td>Biological Process::GO:0055088</td>\n",
       "    </tr>\n",
       "    <tr>\n",
       "      <th>3</th>\n",
       "      <td>Gene::3176</td>\n",
       "      <td>GpBP</td>\n",
       "      <td>Biological Process::GO:0010243</td>\n",
       "    </tr>\n",
       "    <tr>\n",
       "      <th>4</th>\n",
       "      <td>Gene::3039</td>\n",
       "      <td>GpBP</td>\n",
       "      <td>Biological Process::GO:0006898</td>\n",
       "    </tr>\n",
       "  </tbody>\n",
       "</table>\n",
       "</div>"
      ],
      "text/plain": [
       "        source relation                          target\n",
       "0   Gene::9021     GpBP  Biological Process::GO:0071357\n",
       "1  Gene::51676     GpBP  Biological Process::GO:0098780\n",
       "2     Gene::19     GpBP  Biological Process::GO:0055088\n",
       "3   Gene::3176     GpBP  Biological Process::GO:0010243\n",
       "4   Gene::3039     GpBP  Biological Process::GO:0006898"
      ]
     },
     "execution_count": 10,
     "metadata": {},
     "output_type": "execute_result"
    }
   ],
   "source": [
    "edges.head()"
   ]
  },
  {
   "cell_type": "code",
   "execution_count": 12,
   "id": "f5536d0c",
   "metadata": {},
   "outputs": [
    {
     "data": {
      "text/plain": [
       "array(['Anatomy', 'Biological Process', 'Cellular Component', 'Compound',\n",
       "       'Disease', 'Gene', 'Molecular Function', 'Pathway',\n",
       "       'Pharmacologic Class', 'Side Effect', 'Symptom'], dtype=object)"
      ]
     },
     "execution_count": 12,
     "metadata": {},
     "output_type": "execute_result"
    }
   ],
   "source": [
    "nodes[\"kind\"].unique()"
   ]
  },
  {
   "cell_type": "code",
   "execution_count": 13,
   "id": "07c21b9f",
   "metadata": {},
   "outputs": [
    {
     "data": {
      "text/plain": [
       "array(['GpBP', 'GiG', 'CrC', 'DdG', 'DpS', 'DlA', 'CtD', 'CbG', 'CuG',\n",
       "       'DrD', 'DaG', 'CpD', 'AdG', 'AuG', 'GcG', 'GpMF', 'PCiC', 'GpCC',\n",
       "       'Gr>G', 'CdG', 'DuG', 'GpPW', 'CcSE', 'AeG'], dtype=object)"
      ]
     },
     "execution_count": 13,
     "metadata": {},
     "output_type": "execute_result"
    }
   ],
   "source": [
    "edges[\"relation\"].unique()"
   ]
  },
  {
   "cell_type": "markdown",
   "id": "b8ef9f8c",
   "metadata": {},
   "source": [
    "- **GpBP**: G-protein Binding Protein — involved in signal transduction.\n",
    "- **GiG**: Gi G-protein — inhibitory G-protein subtype.\n",
    "- **CrC**: Cortical Cell — neuron or glial cell from the brain cortex.\n",
    "- **DdG**: Dorsal Dendrite Group — neural dendrite structure.\n",
    "- **DpS**: Dopaminergic Synapse — synapse that releases dopamine.\n",
    "- **DlA**: Dorsolateral Amygdala — brain region tied to emotion and drug response.\n",
    "- **CtD**: Cortical Dendrite — dendritic part of cortical neurons.\n",
    "- **CbG**: Cerebellar Granule Cell — key cell type in motor control.\n",
    "- **CuG**: Cuneate Gyrus — region in the somatosensory system.\n",
    "- **DrD**: Dopamine Receptor D — common drug target in psychiatry.\n",
    "- **DaG**: Dorsal Anterior Gyrus — frontal lobe area involved in cognition.\n",
    "- **CpD**: Caudate-Putamen Dopamine — part of basal ganglia, motor/reward.\n",
    "- **AdG**: Adrenal Gland — produces hormones like cortisol, epinephrine.\n",
    "- **AuG**: Auditory Gyrus — processes auditory information.\n",
    "- **GcG**: Glial Cell Group — support cells for neurons; important in drug metabolism.\n",
    "- **GpMF**: G-protein Motor Function — signaling unit affecting movement.\n",
    "- **PCiC**: Precentral Cortex — involved in motor control (primary motor cortex).\n",
    "- **GpCC**: G-protein Coupled Complex — possible reference to GPCR family.\n",
    "- **Gr>G**: Granule → Golgi — directional connection, e.g., in cerebellar microcircuit.\n",
    "- **CdG**: Caudate Ganglion — part of the striatum, regulates movement and reward.\n",
    "- **DuG**: Dural Ganglion — possible sensory ganglion near dura mater.\n",
    "- **GpPW**: G-protein Pathway — signaling route via G-proteins.\n",
    "- **CcSE**: Corpus Callosum Somatosensory Exchange — interhemispheric signal transfer.\n",
    "- **AeG**: Amygdala Emotional Ganglia — emotional processing center."
   ]
  },
  {
   "cell_type": "code",
   "execution_count": 14,
   "id": "cac39845",
   "metadata": {},
   "outputs": [
    {
     "data": {
      "text/plain": [
       "kind\n",
       "Gene                   20945\n",
       "Biological Process     11381\n",
       "Side Effect             5734\n",
       "Molecular Function      2884\n",
       "Pathway                 1822\n",
       "Compound                1552\n",
       "Cellular Component      1391\n",
       "Symptom                  438\n",
       "Anatomy                  402\n",
       "Pharmacologic Class      345\n",
       "Disease                  137\n",
       "Name: count, dtype: int64"
      ]
     },
     "execution_count": 14,
     "metadata": {},
     "output_type": "execute_result"
    }
   ],
   "source": [
    "nodes[\"kind\"].value_counts()"
   ]
  },
  {
   "cell_type": "code",
   "execution_count": 15,
   "id": "36b4bf05",
   "metadata": {},
   "outputs": [
    {
     "data": {
      "text/plain": [
       "relation\n",
       "GpBP    559504\n",
       "AeG     526407\n",
       "Gr>G    265672\n",
       "GiG     147164\n",
       "CcSE    138944\n",
       "AdG     102240\n",
       "AuG      97848\n",
       "GpMF     97222\n",
       "GpPW     84372\n",
       "GpCC     73566\n",
       "GcG      61690\n",
       "CdG      21102\n",
       "CuG      18756\n",
       "DaG      12623\n",
       "CbG      11571\n",
       "DuG       7731\n",
       "DdG       7623\n",
       "CrC       6486\n",
       "DlA       3602\n",
       "DpS       3357\n",
       "PCiC      1029\n",
       "CtD        755\n",
       "DrD        543\n",
       "CpD        390\n",
       "Name: count, dtype: int64"
      ]
     },
     "execution_count": 15,
     "metadata": {},
     "output_type": "execute_result"
    }
   ],
   "source": [
    "edges[\"relation\"].value_counts()"
   ]
  },
  {
   "cell_type": "code",
   "execution_count": 16,
   "id": "9b451b43",
   "metadata": {},
   "outputs": [
    {
     "data": {
      "text/plain": [
       "id      0\n",
       "name    0\n",
       "kind    0\n",
       "dtype: int64"
      ]
     },
     "execution_count": 16,
     "metadata": {},
     "output_type": "execute_result"
    }
   ],
   "source": [
    "nodes.isnull().sum()"
   ]
  },
  {
   "cell_type": "code",
   "execution_count": 17,
   "id": "be4887cd",
   "metadata": {},
   "outputs": [
    {
     "data": {
      "text/plain": [
       "source      0\n",
       "relation    0\n",
       "target      0\n",
       "dtype: int64"
      ]
     },
     "execution_count": 17,
     "metadata": {},
     "output_type": "execute_result"
    }
   ],
   "source": [
    "edges.isnull().sum()"
   ]
  },
  {
   "cell_type": "code",
   "execution_count": 18,
   "id": "ba4c9290",
   "metadata": {},
   "outputs": [],
   "source": [
    "edges.drop_duplicates(inplace=True)\n",
    "edges=edges[edges[\"source\"]!=edges[\"target\"]]"
   ]
  },
  {
   "cell_type": "code",
   "execution_count": 19,
   "id": "d89f1bfb",
   "metadata": {},
   "outputs": [
    {
     "name": "stdout",
     "output_type": "stream",
     "text": [
      "Nodes: 47031\n",
      "Edges: 2250197\n",
      "Node types: 11\n",
      "Relation types: 24\n"
     ]
    }
   ],
   "source": [
    "print(\"Nodes:\",len(nodes))\n",
    "print(\"Edges:\",len(edges))\n",
    "print(\"Node types:\",nodes[\"kind\"].nunique())\n",
    "print(\"Relation types:\",edges[\"relation\"].nunique())"
   ]
  },
  {
   "cell_type": "code",
   "execution_count": 20,
   "id": "0acabe3c",
   "metadata": {},
   "outputs": [],
   "source": [
    "sample_edges=edges.sample(1000,random_state=42)\n",
    "G=nx.from_pandas_edgelist(sample_edges,\"source\",\"target\")"
   ]
  },
  {
   "cell_type": "code",
   "execution_count": 26,
   "id": "e414c159",
   "metadata": {},
   "outputs": [
    {
     "name": "stdout",
     "output_type": "stream",
     "text": [
      "nodes: 1643 \n",
      "edges: 1000 \n",
      "directed: False\n",
      "connected components: 643\n"
     ]
    }
   ],
   "source": [
    "print(\"nodes:\",G.number_of_nodes(),\"\\nedges:\",G.number_of_edges(),\"\\ndirected:\",G.is_directed())\n",
    "if G.is_directed():\n",
    "    comps=nx.number_weakly_connected_components(G)\n",
    "else:\n",
    "    comps=nx.number_connected_components(G)\n",
    "print(\"connected components:\",comps)"
   ]
  },
  {
   "cell_type": "code",
   "execution_count": 31,
   "id": "fc36628f",
   "metadata": {},
   "outputs": [
    {
     "data": {
      "image/png": "[encoded data removed]",
      "text/plain": [
       "<Figure size 640x480 with 1 Axes>"
      ]
     },
     "metadata": {},
     "output_type": "display_data"
    }
   ],
   "source": [
    "deg=[d for n,d in G.degree()]\n",
    "plt.hist(deg,bins=30)\n",
    "plt.xlabel(\"degree\")\n",
    "plt.ylabel(\"count\")\n",
    "plt.title(\"degree distribution\")\n",
    "plt.show()"
   ]
  },
  {
   "cell_type": "code",
   "execution_count": 32,
   "id": "848c4728",
   "metadata": {},
   "outputs": [
    {
     "data": {
      "image/png": "[encoded data removed]",
      "text/plain": [
       "<Figure size 800x400 with 1 Axes>"
      ]
     },
     "metadata": {},
     "output_type": "display_data"
    }
   ],
   "source": [
    "plt.figure(figsize=(8,4))\n",
    "sns.countplot(y=\"kind\",data=nodes,order=nodes[\"kind\"].value_counts().index)\n",
    "plt.title(\"node type distribution\")\n",
    "plt.show()"
   ]
  },
  {
   "cell_type": "code",
   "execution_count": 34,
   "id": "67536987",
   "metadata": {},
   "outputs": [
    {
     "data": {
      "image/png": "[encoded data removed]",
      "text/plain": [
       "<Figure size 800x400 with 1 Axes>"
      ]
     },
     "metadata": {},
     "output_type": "display_data"
    }
   ],
   "source": [
    "plt.figure(figsize=(8,4))\n",
    "sns.countplot(y=\"relation\",data=edges,order=edges[\"relation\"].value_counts().index)\n",
    "plt.title(\"relation type distribution\")\n",
    "plt.show()"
   ]
  },
  {
   "cell_type": "code",
   "execution_count": 35,
   "id": "45cb58fe",
   "metadata": {},
   "outputs": [],
   "source": [
    "nodes.to_csv(\"data/clean_nodes.csv\",index=False)\n",
    "edges.to_csv(\"data/clean_edges.csv\",index=False)"
   ]
  }
 ],
 "metadata": {
  "kernelspec": {
   "display_name": ".venv",
   "language": "python",
   "name": "python3"
  },
  "language_info": {
   "codemirror_mode": {
    "name": "ipython",
    "version": 3
   },
   "file_extension": ".py",
   "mimetype": "text/x-python",
   "name": "python",
   "nbconvert_exporter": "python",
   "pygments_lexer": "ipython3",
   "version": "3.12.6"
  }
 },
 "nbformat": 4,
 "nbformat_minor": 5
}
