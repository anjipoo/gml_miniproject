{
 "cells": [
  {
   "cell_type": "code",
   "execution_count": 2,
   "id": "6598ed89",
   "metadata": {},
   "outputs": [],
   "source": [
    "import pandas as pd\n",
    "import networkx as nx\n",
    "from karateclub import DeepWalk, Node2Vec"
   ]
  },
  {
   "cell_type": "code",
   "execution_count": 3,
   "id": "32a604ed",
   "metadata": {},
   "outputs": [
    {
     "name": "stdout",
     "output_type": "stream",
     "text": [
      "nodes: 45158 edges: 2107709\n"
     ]
    }
   ],
   "source": [
    "edges=pd.read_csv(\"data/clean_edges.csv\")\n",
    "G=nx.from_pandas_edgelist(edges,\"source\",\"target\")\n",
    "print(\"nodes:\",G.number_of_nodes(),\"edges:\",G.number_of_edges())"
   ]
  },
  {
   "cell_type": "code",
   "execution_count": 5,
   "id": "00480e7f",
   "metadata": {},
   "outputs": [
    {
     "name": "stdout",
     "output_type": "stream",
     "text": [
      "relabeled nodes: 45158\n"
     ]
    }
   ],
   "source": [
    "G_int=nx.convert_node_labels_to_integers(G,label_attribute=\"original_id\")\n",
    "print(\"relabeled nodes:\",len(G_int.nodes()))"
   ]
  },
  {
   "cell_type": "code",
   "execution_count": 12,
   "id": "c9372c17",
   "metadata": {},
   "outputs": [
    {
     "name": "stdout",
     "output_type": "stream",
     "text": [
      "deepwalk embedding shape: (45158, 16)\n"
     ]
    }
   ],
   "source": [
    "model_dw=DeepWalk(walk_length=20,dimensions=16,walk_number=5,workers=2)\n",
    "model_dw.fit(G_int)\n",
    "emb_dw=model_dw.get_embedding()\n",
    "print(\"deepwalk embedding shape:\",emb_dw.shape)"
   ]
  },
  {
   "cell_type": "code",
   "execution_count": 13,
   "id": "ea5d600e",
   "metadata": {},
   "outputs": [
    {
     "name": "stdout",
     "output_type": "stream",
     "text": [
      "saved dw embeddings\n"
     ]
    }
   ],
   "source": [
    "mapping=nx.get_node_attributes(G_int,\"original_id\")\n",
    "node_list=[mapping[i] for i in range(len(mapping))]\n",
    "df_dw=pd.DataFrame(emb_dw,index=node_list)\n",
    "df_dw.reset_index(inplace=True)\n",
    "df_dw.columns=[\"node\"]+[f\"dw_{i}\" for i in range(emb_dw.shape[1])]\n",
    "df_dw.to_csv(\"data/deepwalk_embeddings.csv\",index=False)\n",
    "print(\"saved dw embeddings\")"
   ]
  },
  {
   "cell_type": "code",
   "execution_count": 7,
   "id": "58cb84d0",
   "metadata": {},
   "outputs": [],
   "source": [
    "# model_n2v=Node2Vec(walk_length=10,dimensions=16,walk_number=3,workers=4)\n",
    "# model_n2v.fit(G_int)\n",
    "# emb_n2v=model_n2v.get_embedding()\n",
    "# print(\"node2vec embedding shape:\",emb_n2v.shape)"
   ]
  },
  {
   "cell_type": "code",
   "execution_count": 8,
   "id": "be861e48",
   "metadata": {},
   "outputs": [],
   "source": [
    "# mapping=nx.get_node_attributes(G_int,\"original_id\")\n",
    "# node_list=[mapping[i] for i in range(len(mapping))]\n",
    "# df_n2v=pd.DataFrame(emb_n2v,index=node_list)\n",
    "# df_n2v.reset_index(inplace=True)\n",
    "# df_n2v.columns=[\"node\"]+[f\"n2v_{i}\" for i in range(emb_n2v.shape[1])]\n",
    "# df_n2v.to_csv(\"data/node2vec_embeddings.csv\",index=False)\n",
    "# print(\"saved n2v embeddings.\")"
   ]
  },
  {
   "cell_type": "code",
   "execution_count": 9,
   "id": "68fd9cce",
   "metadata": {},
   "outputs": [],
   "source": [
    "import pandas as pd"
   ]
  },
  {
   "cell_type": "code",
   "execution_count": 10,
   "id": "3e4142cd",
   "metadata": {},
   "outputs": [],
   "source": [
    "dw=pd.read_csv(\"data/deepwalk_embeddings.csv\")"
   ]
  },
  {
   "cell_type": "code",
   "execution_count": 11,
   "id": "f40ad07c",
   "metadata": {},
   "outputs": [
    {
     "data": {
      "text/plain": [
       "(45158, 17)"
      ]
     },
     "execution_count": 11,
     "metadata": {},
     "output_type": "execute_result"
    }
   ],
   "source": [
    "dw.shape"
   ]
  },
  {
   "cell_type": "code",
   "execution_count": 12,
   "id": "e614b638",
   "metadata": {},
   "outputs": [
    {
     "data": {
      "text/html": [
       "<div>\n",
       "<style scoped>\n",
       "    .dataframe tbody tr th:only-of-type {\n",
       "        vertical-align: middle;\n",
       "    }\n",
       "\n",
       "    .dataframe tbody tr th {\n",
       "        vertical-align: top;\n",
       "    }\n",
       "\n",
       "    .dataframe thead th {\n",
       "        text-align: right;\n",
       "    }\n",
       "</style>\n",
       "<table border=\"1\" class=\"dataframe\">\n",
       "  <thead>\n",
       "    <tr style=\"text-align: right;\">\n",
       "      <th></th>\n",
       "      <th>node</th>\n",
       "      <th>dw_0</th>\n",
       "      <th>dw_1</th>\n",
       "      <th>dw_2</th>\n",
       "      <th>dw_3</th>\n",
       "      <th>dw_4</th>\n",
       "      <th>dw_5</th>\n",
       "      <th>dw_6</th>\n",
       "      <th>dw_7</th>\n",
       "      <th>dw_8</th>\n",
       "      <th>dw_9</th>\n",
       "      <th>dw_10</th>\n",
       "      <th>dw_11</th>\n",
       "      <th>dw_12</th>\n",
       "      <th>dw_13</th>\n",
       "      <th>dw_14</th>\n",
       "      <th>dw_15</th>\n",
       "    </tr>\n",
       "  </thead>\n",
       "  <tbody>\n",
       "    <tr>\n",
       "      <th>0</th>\n",
       "      <td>Gene::9021</td>\n",
       "      <td>1.010406</td>\n",
       "      <td>-0.633606</td>\n",
       "      <td>-0.945365</td>\n",
       "      <td>-1.788558</td>\n",
       "      <td>0.681705</td>\n",
       "      <td>-0.790902</td>\n",
       "      <td>-0.932411</td>\n",
       "      <td>0.588293</td>\n",
       "      <td>0.681000</td>\n",
       "      <td>0.878555</td>\n",
       "      <td>0.781311</td>\n",
       "      <td>-2.107450</td>\n",
       "      <td>-0.102509</td>\n",
       "      <td>0.310479</td>\n",
       "      <td>1.123205</td>\n",
       "      <td>-0.914021</td>\n",
       "    </tr>\n",
       "    <tr>\n",
       "      <th>1</th>\n",
       "      <td>Biological Process::GO:0071357</td>\n",
       "      <td>0.314515</td>\n",
       "      <td>-0.619835</td>\n",
       "      <td>0.202270</td>\n",
       "      <td>0.151577</td>\n",
       "      <td>1.007136</td>\n",
       "      <td>-0.475345</td>\n",
       "      <td>-0.905389</td>\n",
       "      <td>0.509484</td>\n",
       "      <td>0.267854</td>\n",
       "      <td>0.285403</td>\n",
       "      <td>0.728416</td>\n",
       "      <td>-1.162914</td>\n",
       "      <td>0.016440</td>\n",
       "      <td>0.549378</td>\n",
       "      <td>0.173692</td>\n",
       "      <td>-0.201169</td>\n",
       "    </tr>\n",
       "    <tr>\n",
       "      <th>2</th>\n",
       "      <td>Gene::51676</td>\n",
       "      <td>0.294189</td>\n",
       "      <td>-0.202508</td>\n",
       "      <td>-0.253945</td>\n",
       "      <td>-0.119668</td>\n",
       "      <td>0.955101</td>\n",
       "      <td>-1.007778</td>\n",
       "      <td>-0.277840</td>\n",
       "      <td>0.744806</td>\n",
       "      <td>0.997981</td>\n",
       "      <td>0.902201</td>\n",
       "      <td>1.845594</td>\n",
       "      <td>-0.179609</td>\n",
       "      <td>-0.822157</td>\n",
       "      <td>0.254725</td>\n",
       "      <td>0.830060</td>\n",
       "      <td>-0.220943</td>\n",
       "    </tr>\n",
       "    <tr>\n",
       "      <th>3</th>\n",
       "      <td>Biological Process::GO:0098780</td>\n",
       "      <td>-0.138189</td>\n",
       "      <td>-0.226794</td>\n",
       "      <td>0.228115</td>\n",
       "      <td>-0.067264</td>\n",
       "      <td>1.521147</td>\n",
       "      <td>-0.370653</td>\n",
       "      <td>-1.084367</td>\n",
       "      <td>-0.468562</td>\n",
       "      <td>-0.336232</td>\n",
       "      <td>-1.179568</td>\n",
       "      <td>0.491197</td>\n",
       "      <td>0.484488</td>\n",
       "      <td>-0.391808</td>\n",
       "      <td>-0.574717</td>\n",
       "      <td>-0.763894</td>\n",
       "      <td>-0.497863</td>\n",
       "    </tr>\n",
       "    <tr>\n",
       "      <th>4</th>\n",
       "      <td>Gene::19</td>\n",
       "      <td>-0.349271</td>\n",
       "      <td>-0.330626</td>\n",
       "      <td>-0.142406</td>\n",
       "      <td>-1.636602</td>\n",
       "      <td>0.688358</td>\n",
       "      <td>1.323018</td>\n",
       "      <td>-1.078778</td>\n",
       "      <td>-0.945183</td>\n",
       "      <td>1.002238</td>\n",
       "      <td>-0.770264</td>\n",
       "      <td>1.074546</td>\n",
       "      <td>-0.717893</td>\n",
       "      <td>-1.032164</td>\n",
       "      <td>0.457759</td>\n",
       "      <td>1.111838</td>\n",
       "      <td>-0.262225</td>\n",
       "    </tr>\n",
       "    <tr>\n",
       "      <th>5</th>\n",
       "      <td>Biological Process::GO:0055088</td>\n",
       "      <td>0.607313</td>\n",
       "      <td>-0.284335</td>\n",
       "      <td>0.168239</td>\n",
       "      <td>-0.188588</td>\n",
       "      <td>0.950881</td>\n",
       "      <td>0.408680</td>\n",
       "      <td>-1.092946</td>\n",
       "      <td>-0.192520</td>\n",
       "      <td>-0.320178</td>\n",
       "      <td>-1.147211</td>\n",
       "      <td>0.334155</td>\n",
       "      <td>-1.018211</td>\n",
       "      <td>0.109955</td>\n",
       "      <td>0.400554</td>\n",
       "      <td>-0.293802</td>\n",
       "      <td>-0.306349</td>\n",
       "    </tr>\n",
       "    <tr>\n",
       "      <th>6</th>\n",
       "      <td>Gene::3176</td>\n",
       "      <td>-0.644686</td>\n",
       "      <td>-0.238703</td>\n",
       "      <td>-0.082740</td>\n",
       "      <td>-0.651690</td>\n",
       "      <td>0.808032</td>\n",
       "      <td>0.257805</td>\n",
       "      <td>0.076811</td>\n",
       "      <td>0.098066</td>\n",
       "      <td>0.207837</td>\n",
       "      <td>0.448407</td>\n",
       "      <td>1.776610</td>\n",
       "      <td>-0.284991</td>\n",
       "      <td>-0.684476</td>\n",
       "      <td>0.494787</td>\n",
       "      <td>1.530203</td>\n",
       "      <td>-0.373799</td>\n",
       "    </tr>\n",
       "    <tr>\n",
       "      <th>7</th>\n",
       "      <td>Biological Process::GO:0010243</td>\n",
       "      <td>0.773962</td>\n",
       "      <td>-2.429352</td>\n",
       "      <td>-0.637188</td>\n",
       "      <td>-2.275701</td>\n",
       "      <td>0.371259</td>\n",
       "      <td>-1.464309</td>\n",
       "      <td>-1.176716</td>\n",
       "      <td>-1.517807</td>\n",
       "      <td>-0.574939</td>\n",
       "      <td>0.155003</td>\n",
       "      <td>0.383080</td>\n",
       "      <td>-0.979516</td>\n",
       "      <td>-0.306847</td>\n",
       "      <td>1.831175</td>\n",
       "      <td>-0.795148</td>\n",
       "      <td>-0.343979</td>\n",
       "    </tr>\n",
       "    <tr>\n",
       "      <th>8</th>\n",
       "      <td>Gene::3039</td>\n",
       "      <td>-0.150796</td>\n",
       "      <td>-0.552544</td>\n",
       "      <td>-0.331772</td>\n",
       "      <td>-0.693330</td>\n",
       "      <td>1.428888</td>\n",
       "      <td>0.529687</td>\n",
       "      <td>-0.366500</td>\n",
       "      <td>-0.219417</td>\n",
       "      <td>0.114010</td>\n",
       "      <td>-0.209738</td>\n",
       "      <td>1.608618</td>\n",
       "      <td>0.294557</td>\n",
       "      <td>-0.559935</td>\n",
       "      <td>-0.363681</td>\n",
       "      <td>0.501126</td>\n",
       "      <td>-0.469732</td>\n",
       "    </tr>\n",
       "    <tr>\n",
       "      <th>9</th>\n",
       "      <td>Biological Process::GO:0006898</td>\n",
       "      <td>-0.159779</td>\n",
       "      <td>-0.860640</td>\n",
       "      <td>0.159012</td>\n",
       "      <td>-1.655798</td>\n",
       "      <td>0.799822</td>\n",
       "      <td>-0.749363</td>\n",
       "      <td>-1.088607</td>\n",
       "      <td>-0.575971</td>\n",
       "      <td>-0.389917</td>\n",
       "      <td>-1.398393</td>\n",
       "      <td>0.449043</td>\n",
       "      <td>0.131312</td>\n",
       "      <td>0.450550</td>\n",
       "      <td>0.248521</td>\n",
       "      <td>0.092896</td>\n",
       "      <td>0.364347</td>\n",
       "    </tr>\n",
       "  </tbody>\n",
       "</table>\n",
       "</div>"
      ],
      "text/plain": [
       "                             node      dw_0      dw_1      dw_2      dw_3  \\\n",
       "0                      Gene::9021  1.010406 -0.633606 -0.945365 -1.788558   \n",
       "1  Biological Process::GO:0071357  0.314515 -0.619835  0.202270  0.151577   \n",
       "2                     Gene::51676  0.294189 -0.202508 -0.253945 -0.119668   \n",
       "3  Biological Process::GO:0098780 -0.138189 -0.226794  0.228115 -0.067264   \n",
       "4                        Gene::19 -0.349271 -0.330626 -0.142406 -1.636602   \n",
       "5  Biological Process::GO:0055088  0.607313 -0.284335  0.168239 -0.188588   \n",
       "6                      Gene::3176 -0.644686 -0.238703 -0.082740 -0.651690   \n",
       "7  Biological Process::GO:0010243  0.773962 -2.429352 -0.637188 -2.275701   \n",
       "8                      Gene::3039 -0.150796 -0.552544 -0.331772 -0.693330   \n",
       "9  Biological Process::GO:0006898 -0.159779 -0.860640  0.159012 -1.655798   \n",
       "\n",
       "       dw_4      dw_5      dw_6      dw_7      dw_8      dw_9     dw_10  \\\n",
       "0  0.681705 -0.790902 -0.932411  0.588293  0.681000  0.878555  0.781311   \n",
       "1  1.007136 -0.475345 -0.905389  0.509484  0.267854  0.285403  0.728416   \n",
       "2  0.955101 -1.007778 -0.277840  0.744806  0.997981  0.902201  1.845594   \n",
       "3  1.521147 -0.370653 -1.084367 -0.468562 -0.336232 -1.179568  0.491197   \n",
       "4  0.688358  1.323018 -1.078778 -0.945183  1.002238 -0.770264  1.074546   \n",
       "5  0.950881  0.408680 -1.092946 -0.192520 -0.320178 -1.147211  0.334155   \n",
       "6  0.808032  0.257805  0.076811  0.098066  0.207837  0.448407  1.776610   \n",
       "7  0.371259 -1.464309 -1.176716 -1.517807 -0.574939  0.155003  0.383080   \n",
       "8  1.428888  0.529687 -0.366500 -0.219417  0.114010 -0.209738  1.608618   \n",
       "9  0.799822 -0.749363 -1.088607 -0.575971 -0.389917 -1.398393  0.449043   \n",
       "\n",
       "      dw_11     dw_12     dw_13     dw_14     dw_15  \n",
       "0 -2.107450 -0.102509  0.310479  1.123205 -0.914021  \n",
       "1 -1.162914  0.016440  0.549378  0.173692 -0.201169  \n",
       "2 -0.179609 -0.822157  0.254725  0.830060 -0.220943  \n",
       "3  0.484488 -0.391808 -0.574717 -0.763894 -0.497863  \n",
       "4 -0.717893 -1.032164  0.457759  1.111838 -0.262225  \n",
       "5 -1.018211  0.109955  0.400554 -0.293802 -0.306349  \n",
       "6 -0.284991 -0.684476  0.494787  1.530203 -0.373799  \n",
       "7 -0.979516 -0.306847  1.831175 -0.795148 -0.343979  \n",
       "8  0.294557 -0.559935 -0.363681  0.501126 -0.469732  \n",
       "9  0.131312  0.450550  0.248521  0.092896  0.364347  "
      ]
     },
     "execution_count": 12,
     "metadata": {},
     "output_type": "execute_result"
    }
   ],
   "source": [
    "dw.head(10)"
   ]
  },
  {
   "cell_type": "code",
   "execution_count": 13,
   "id": "62b2341d",
   "metadata": {},
   "outputs": [],
   "source": [
    "from sklearn.decomposition import PCA\n",
    "import matplotlib.pyplot as plt"
   ]
  },
  {
   "cell_type": "code",
   "execution_count": 14,
   "id": "06eb2edf",
   "metadata": {},
   "outputs": [],
   "source": [
    "X=dw.drop(columns=[\"node\"])\n",
    "pca=PCA(n_components=2)\n",
    "pca_result=pca.fit_transform(X)"
   ]
  },
  {
   "cell_type": "code",
   "execution_count": 15,
   "id": "f685a1bf",
   "metadata": {},
   "outputs": [
    {
     "data": {
      "image/png": "[encoded data removed]",
      "text/plain": [
       "<Figure size 600x400 with 1 Axes>"
      ]
     },
     "metadata": {},
     "output_type": "display_data"
    }
   ],
   "source": [
    "plt.figure(figsize=(6,4))\n",
    "plt.scatter(pca_result[:,0],pca_result[:,1],s=5)\n",
    "plt.title(\"pca of dw embeddings\")\n",
    "plt.xlabel(\"pc1\")\n",
    "plt.ylabel(\"pc2\")\n",
    "plt.show()"
   ]
  },
  {
   "cell_type": "code",
   "execution_count": 16,
   "id": "77d074a7",
   "metadata": {},
   "outputs": [],
   "source": [
    "from sklearn.manifold import TSNE"
   ]
  },
  {
   "cell_type": "code",
   "execution_count": 17,
   "id": "9e8a9f9e",
   "metadata": {},
   "outputs": [],
   "source": [
    "tsne=TSNE(n_components=2,perplexity=30,random_state=42)\n",
    "tsne_result=tsne.fit_transform(X)"
   ]
  },
  {
   "cell_type": "code",
   "execution_count": 18,
   "id": "84427782",
   "metadata": {},
   "outputs": [
    {
     "data": {
      "image/png": "[encoded data removed]",
      "text/plain": [
       "<Figure size 600x400 with 1 Axes>"
      ]
     },
     "metadata": {},
     "output_type": "display_data"
    }
   ],
   "source": [
    "plt.figure(figsize=(6,4))\n",
    "plt.scatter(tsne_result[:,0],tsne_result[:,1],s=5)\n",
    "plt.title(\"tsne of dw embeddings\")\n",
    "plt.xlabel(\"dim1\")\n",
    "plt.ylabel(\"dim2\")\n",
    "plt.show()"
   ]
  },
  {
   "cell_type": "code",
   "execution_count": 19,
   "id": "0a2d8159",
   "metadata": {},
   "outputs": [],
   "source": [
    "import networkx as nx\n",
    "import random\n",
    "import numpy as np"
   ]
  },
  {
   "cell_type": "code",
   "execution_count": 20,
   "id": "c8915bd4",
   "metadata": {},
   "outputs": [],
   "source": [
    "edges=pd.read_csv(\"data/clean_edges.csv\")\n",
    "G=nx.from_pandas_edgelist(edges,\"source\",\"target\")"
   ]
  },
  {
   "cell_type": "code",
   "execution_count": 23,
   "id": "5494c8e9",
   "metadata": {},
   "outputs": [],
   "source": [
    "edges_pos=list(G.edges())\n",
    "edges_pos=random.sample(edges_pos,20000)\n",
    "edges_neg=[]\n",
    "while len(edges_neg)<len(edges_pos):\n",
    "    a,b=random.sample(list(G.nodes()),2)\n",
    "    if not G.has_edge(a,b):\n",
    "        edges_neg.append((a,b))"
   ]
  },
  {
   "cell_type": "code",
   "execution_count": 24,
   "id": "751e7382",
   "metadata": {},
   "outputs": [],
   "source": [
    "edges_all=edges_pos+edges_neg\n",
    "labels=[1]*len(edges_pos)+[0]*len(edges_neg)"
   ]
  },
  {
   "cell_type": "code",
   "execution_count": 25,
   "id": "b3444abd",
   "metadata": {},
   "outputs": [],
   "source": [
    "emb_dict=dict(zip(dw[\"node\"],dw.drop(columns=[\"node\"]).values))\n",
    "def edge_feature(a,b):\n",
    "    if a in emb_dict and b in emb_dict:\n",
    "        return emb_dict[a]*emb_dict[b]\n",
    "    else:\n",
    "        return np.zeros(X.shape[1])\n",
    "X_edges=np.array([edge_feature(a,b) for a,b in edges_all])\n",
    "y=np.array(labels)"
   ]
  },
  {
   "cell_type": "code",
   "execution_count": 26,
   "id": "2c528d2a",
   "metadata": {},
   "outputs": [],
   "source": [
    "from sklearn.model_selection import train_test_split\n",
    "from sklearn.linear_model import LogisticRegression"
   ]
  },
  {
   "cell_type": "code",
   "execution_count": 27,
   "id": "7f345d12",
   "metadata": {},
   "outputs": [],
   "source": [
    "X_train,X_test,y_train,y_test=train_test_split(X_edges,y,test_size=0.2,random_state=42)\n",
    "clf=LogisticRegression(max_iter=1000)\n",
    "clf.fit(X_train,y_train)\n",
    "y_pred=clf.predict(X_test)\n",
    "y_prob=clf.predict_proba(X_test)[:,1]"
   ]
  },
  {
   "cell_type": "code",
   "execution_count": 28,
   "id": "03df889e",
   "metadata": {},
   "outputs": [],
   "source": [
    "from sklearn.metrics import accuracy_score,roc_auc_score,f1_score,confusion_matrix,ConfusionMatrixDisplay\n",
    "import matplotlib.pyplot as plt"
   ]
  },
  {
   "cell_type": "code",
   "execution_count": 29,
   "id": "8c56735a",
   "metadata": {},
   "outputs": [],
   "source": [
    "acc=accuracy_score(y_test,y_pred)\n",
    "auc=roc_auc_score(y_test,y_prob)\n",
    "f1=f1_score(y_test,y_pred)"
   ]
  },
  {
   "cell_type": "code",
   "execution_count": 30,
   "id": "a05fee3c",
   "metadata": {},
   "outputs": [
    {
     "name": "stdout",
     "output_type": "stream",
     "text": [
      "Accuracy: 0.832\n",
      "ROC AUC: 0.903\n",
      "F1 Score: 0.822\n"
     ]
    }
   ],
   "source": [
    "print(\"Accuracy:\",round(acc,3))\n",
    "print(\"ROC AUC:\",round(auc,3))\n",
    "print(\"F1 Score:\",round(f1,3))"
   ]
  },
  {
   "cell_type": "code",
   "execution_count": 31,
   "id": "afca576d",
   "metadata": {},
   "outputs": [
    {
     "data": {
      "image/png": "[encoded data removed]",
      "text/plain": [
       "<Figure size 640x480 with 2 Axes>"
      ]
     },
     "metadata": {},
     "output_type": "display_data"
    }
   ],
   "source": [
    "ConfusionMatrixDisplay(confusion_matrix(y_test,y_pred)).plot()\n",
    "plt.show()"
   ]
  },
  {
   "cell_type": "markdown",
   "id": "a9bbaecd",
   "metadata": {},
   "source": [
    "for eg. visualizing a single predn"
   ]
  },
  {
   "cell_type": "code",
   "execution_count": 32,
   "id": "dd830a10",
   "metadata": {},
   "outputs": [],
   "source": [
    "import random"
   ]
  },
  {
   "cell_type": "code",
   "execution_count": 33,
   "id": "8ed2b5c6",
   "metadata": {},
   "outputs": [],
   "source": [
    "idx=random.randint(0,len(X_test)-1)\n",
    "a,b=edges_all[len(edges_all)-len(y_test)+idx]\n",
    "pred_prob=y_prob[idx]\n",
    "pred_label=y_pred[idx]"
   ]
  },
  {
   "cell_type": "code",
   "execution_count": 34,
   "id": "74e50ae5",
   "metadata": {},
   "outputs": [
    {
     "name": "stdout",
     "output_type": "stream",
     "text": [
      "src node: Biological Process::GO:0002449\n",
      "target node: Molecular Function::GO:0004993\n",
      "predicted probability of edge: 0.214\n",
      "predicted label (1=edge,0=no edge): 0\n"
     ]
    }
   ],
   "source": [
    "print(\"src node:\",a)\n",
    "print(\"target node:\",b)\n",
    "print(\"predicted probability of edge:\",round(pred_prob,3))\n",
    "print(\"predicted label (1=edge,0=no edge):\",pred_label)"
   ]
  }
 ],
 "metadata": {
  "kernelspec": {
   "display_name": "karate_env",
   "language": "python",
   "name": "python3"
  },
  "language_info": {
   "codemirror_mode": {
    "name": "ipython",
    "version": 3
   },
   "file_extension": ".py",
   "mimetype": "text/x-python",
   "name": "python",
   "nbconvert_exporter": "python",
   "pygments_lexer": "ipython3",
   "version": "3.10.11"
  }
 },
 "nbformat": 4,
 "nbformat_minor": 5
}
